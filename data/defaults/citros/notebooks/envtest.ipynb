{
 "cells": [
  {
   "cell_type": "code",
   "execution_count": 1,
   "metadata": {
    "execution": {
     "iopub.execute_input": "2024-02-13T12:20:20.140828Z",
     "iopub.status.busy": "2024-02-13T12:20:20.140538Z",
     "iopub.status.idle": "2024-02-13T12:20:20.149979Z",
     "shell.execute_reply": "2024-02-13T12:20:20.149371Z"
    }
   },
   "outputs": [
    {
     "name": "stdout",
     "output_type": "stream",
     "text": [
      "pg info\n",
      "localhost\n",
      "5454\n",
      "citros\n",
      "citros\n",
      "citros\n",
      "password\n"
     ]
    }
   ],
   "source": [
    "import os  \n",
    "\n",
    "print(\"pg info\")\n",
    "assert(os.getenv(\"PG_HOST\") == 'localhost')\n",
    "print(os.getenv(\"PG_HOST\"))\n",
    "\n",
    "assert(os.getenv(\"PG_PORT\") == '5454')\n",
    "print(os.getenv(\"PG_PORT\"))\n",
    "\n",
    "assert(os.getenv(\"PG_DATABASE\") == 'citros')\n",
    "print(os.getenv(\"PG_DATABASE\"))\n",
    "\n",
    "assert(os.getenv(\"PG_SCHEMA\") == 'citros')\n",
    "print(os.getenv(\"PG_SCHEMA\"))\n",
    "\n",
    "assert(os.getenv(\"PG_USER\") == 'citros')\n",
    "print(os.getenv(\"PG_USER\"))\n",
    "\n",
    "assert(os.getenv(\"PG_PASSWORD\") == 'password')\n",
    "print(os.getenv(\"PG_PASSWORD\"))\n",
    "\n"
   ]
  },
  {
   "cell_type": "code",
   "execution_count": 2,
   "metadata": {
    "execution": {
     "iopub.execute_input": "2024-02-13T12:20:20.176970Z",
     "iopub.status.busy": "2024-02-13T12:20:20.176750Z",
     "iopub.status.idle": "2024-02-13T12:20:20.179455Z",
     "shell.execute_reply": "2024-02-13T12:20:20.179029Z"
    }
   },
   "outputs": [
    {
     "name": "stdout",
     "output_type": "stream",
     "text": [
      "report info\n",
      "citros\n",
      "This is a default report message from citros\n",
      "20240213142018\n"
     ]
    }
   ],
   "source": [
    "print(\"report info\")\n",
    "print(os.getenv(\"REPORT_NANE\"))\n",
    "print(os.getenv(\"REPORT_MESSAGE\"))\n",
    "print(os.getenv(\"REPORT_VERSION\"))\n"
   ]
  },
  {
   "cell_type": "code",
   "execution_count": 3,
   "metadata": {
    "execution": {
     "iopub.execute_input": "2024-02-13T12:20:20.181428Z",
     "iopub.status.busy": "2024-02-13T12:20:20.181263Z",
     "iopub.status.idle": "2024-02-13T12:20:20.183820Z",
     "shell.execute_reply": "2024-02-13T12:20:20.183417Z"
    }
   },
   "outputs": [
    {
     "name": "stdout",
     "output_type": "stream",
     "text": [
      "batch info\n",
      "simulation_cannon_analytic\n",
      "first\n",
      "20240124083131\n",
      "This is a default batch message from citros\n"
     ]
    }
   ],
   "source": [
    "print(\"batch info\")\n",
    "print(os.getenv(\"BATCH_SIMULATION\"))\n",
    "print(os.getenv(\"BATCH_NAME\"))\n",
    "print(os.getenv(\"BATCH_VERSION\"))\n",
    "print(os.getenv(\"BATCH_MESSAGE\"))"
   ]
  }
 ],
 "metadata": {
  "kernelspec": {
   "display_name": "Python 3",
   "language": "python",
   "name": "python3"
  },
  "language_info": {
   "codemirror_mode": {
    "name": "ipython",
    "version": 3
   },
   "file_extension": ".py",
   "mimetype": "text/x-python",
   "name": "python",
   "nbconvert_exporter": "python",
   "pygments_lexer": "ipython3",
   "version": "3.11.7"
  }
 },
 "nbformat": 4,
 "nbformat_minor": 4
}
